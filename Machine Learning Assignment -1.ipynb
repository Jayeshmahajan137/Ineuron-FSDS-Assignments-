{
 "cells": [
  {
   "cell_type": "code",
   "execution_count": 1,
   "id": "9beb8794",
   "metadata": {},
   "outputs": [],
   "source": [
    "# ML Assignment No. 1"
   ]
  },
  {
   "cell_type": "raw",
   "id": "2e6fc820",
   "metadata": {},
   "source": [
    "Q1-What does one mean by the term machine learning?\n",
    "Ans:-  Machine Learning is a subset of Artificial Intelligence.\n",
    "       It is field of study that gives computers the capability to learn without being explicitly programmed.\n",
    "       Machine Learning is the study of making machines more human-like in their behaviour and decisions by giving them the            ability to learn and develop their own programs."
   ]
  },
  {
   "cell_type": "raw",
   "id": "dbe1f2c7",
   "metadata": {},
   "source": [
    "Q2-Can you think of 4 distinct types of issues where it shines?\n",
    "Ans:- Machine learning is used in \n",
    "      1.Email Spam Filtering\n",
    "      2.Speech Recognition\n",
    "      3.Online Fraud Detection\n",
    "      4.Facial Recognition\n",
    "      5.Traffic Predictions\n",
    "      6.Self-driving cars\n",
    "      7.Cancer diagnosis\n",
    "      8.Virtual assistants  etc.\n",
    "    "
   ]
  },
  {
   "cell_type": "raw",
   "id": "9d377939",
   "metadata": {},
   "source": [
    "Q3-What is a labeled training set, and how does it work?\n",
    "Ans:- In machine learning, data labeling is the process of identifying raw data and adding one or more meaningful and                 informative labels to provide context so that a machine learning model can learn from it.\n",
    "      We have to divide the labeled data  in the form of training dataset and test dataset and this data is used by the ML           algorithms.The training dataset is used to train the algorithm, and then you use the trained model on the test dataset to       predict the response variable values that are already known. The final step is to compare the predicted responses against       the actual (observed) responses to see how close they are. "
   ]
  },
  {
   "cell_type": "raw",
   "id": "1f70265f",
   "metadata": {},
   "source": [
    "Q4-What are the two most important tasks that are supervised?\n",
    "Ans:- The two most common supervised tasks are regression and classification."
   ]
  },
  {
   "cell_type": "raw",
   "id": "e80d4c19",
   "metadata": {},
   "source": [
    "Q5-Can you think of four examples of unsupervised tasks?\n",
    "Ans:- The task of the unsupervised learning algorithm is to identify the image features on their own. Unsupervised learning           algorithm will perform this task by clustering the image dataset into the groups according to similarities between             images.Common unsupervised tasks include-\n",
    "      clustering, \n",
    "      visualization, \n",
    "      dimensionality reduction,  \n",
    "      association rule learning."
   ]
  },
  {
   "cell_type": "raw",
   "id": "ac1b6aa2",
   "metadata": {},
   "source": [
    "Q6-State the machine learning model that would be best to make a robot walk through various unfamiliar terrains?\n",
    "Ans:- The best Machine Learning algorithm to allow a robot to walk in unknown terrain is Reinforced Learning, where the robot         can learn from response of the terrain to optimize itself.\n"
   ]
  },
  {
   "cell_type": "raw",
   "id": "38127d34",
   "metadata": {},
   "source": [
    "Q7-Which algorithm will you use to divide your customers into different groups?\n",
    "Ans:- If we already know the categories of our customers then we can use supervised technique of machine learning and in that         we can use classification alogorithm.Else we can use clustering algorithms which are the kind of unsupervised technique."
   ]
  },
  {
   "cell_type": "raw",
   "id": "14560ddc",
   "metadata": {},
   "source": [
    "Q8-Will you consider the problem of spam detection to be a supervised or unsupervised learning problem?\n",
    "Ans:- Spam detection is a supervised learning problem because the labels are known as spam or no spam"
   ]
  },
  {
   "cell_type": "raw",
   "id": "bf7e2efb",
   "metadata": {},
   "source": [
    "Q9-What is the concept of an online learning system?\n",
    "Ans:- Online machine learning is a method of machine learning in which data becomes available in a sequential order and is used       to update the best predictor for future data at each step."
   ]
  },
  {
   "cell_type": "raw",
   "id": "76bc701c",
   "metadata": {},
   "source": [
    "Q10-What is out-of-core learning, and how does it differ from core learning?\n",
    "Ans:- Out-of-core leanring refers to the machine learning algorithms working with data which cannot fit into the memory of a         single machine, but that can easily fit into some data storage such as local hard disk or web repository.\n",
    "      Core Machine Learning Framework enables developers to integrate their machine learning models into iOS applications.\n",
    "      The underlying technologies powering Core ML are both CPU and GPU"
   ]
  },
  {
   "cell_type": "raw",
   "id": "75fe6e8e",
   "metadata": {},
   "source": [
    "Q11-What kind of learning algorithm makes predictions using a similarity measure?\n",
    "Ans- Instance-based learning algorithms makes predictions using similarity measure."
   ]
  },
  {
   "cell_type": "raw",
   "id": "f8d21ccf",
   "metadata": {},
   "source": [
    "Q12-What is the difference between a model parameter and a hyperparameter in a learning algorithm?\n",
    "Ans:- Parameters are the ones that the “model” uses to make predictions etc.Model parameters are the parameters in the model         that must be determined using the training data set.These are the fitted parameters.Hyperparameters: These are adjustable       parameters that must be tuned in order to obtain a model with optimal performance."
   ]
  },
  {
   "cell_type": "raw",
   "id": "cda511ae",
   "metadata": {},
   "source": [
    "Q13-What are the criteria that model-based learning algorithms look for? What is the most popular method they use to achieve       success? What method do they use to make predictions?\n",
    "Ans:-Model based learning algorithm search for the optimal value of parameters in a model that will give the best results for        the new instances. We often use a cost function or similar to determine what the parameter value has to be in order to          minimize the function. The model makes prediction by using the value of the new instance and the parameters in its              function."
   ]
  },
  {
   "cell_type": "raw",
   "id": "b4d3e96c",
   "metadata": {},
   "source": [
    "Q14-Can you name four of the most important Machine Learning challenges?\n",
    "Ans:- Common issues in Machine Learning are as mentioned bellow \n",
    "     1.Inadequate Training Data\n",
    "     2.Poor quality of data\n",
    "     3.Non-representative training data\n",
    "     4.Overfitting and Underfitting\n",
    "     5.Monitoring and maintenance\n",
    "     6.Getting bad recommendations\n",
    "     7.Lack of skilled resources\n",
    "     8.Customer Segmentation"
   ]
  },
  {
   "cell_type": "raw",
   "id": "a617eaa6",
   "metadata": {},
   "source": [
    "Q15-What happens if the model performs well on the training data but fails to generalize the resultto new situations? Can you       think of three different options?\n",
    "Ans:- If the model performs poorly to new instances, then it has overfit on the training data. To solve this, we can do any of       the following three: \n",
    "      get more data, \n",
    "      implement a simpler model, \n",
    "      eliminate outliers or noise from the existing data set."
   ]
  },
  {
   "cell_type": "raw",
   "id": "2433101c",
   "metadata": {},
   "source": [
    "Q16-What exactly is a test set, and why would you need one?\n",
    "Ans:-This is a case where the model is overfitting the training data. To counteract overfitting, we can reduce the complexity        of the model by removing features or constraining the parameters. We could gather more data. Finally we can reduce              noisiness in the data by fixing errors and removing outliers."
   ]
  },
  {
   "cell_type": "raw",
   "id": "2491f946",
   "metadata": {},
   "source": [
    "Q17-What is a validation set's purpose?\n",
    "Ans:-dataset that will be used to train your model, is split in training, validation, and test.\n",
    "     train and validation sets should be used to train and validate how the model performs in data never seen before.\n",
    "     The test set should be lock away and only used once all the model related tasks have been completed and the model is ready      to be officially tested and sent to production, this is the only way to not contaminate/leak the model or build a false        impression of the performance of it."
   ]
  },
  {
   "cell_type": "raw",
   "id": "56240cc4",
   "metadata": {},
   "source": [
    "Q18-What precisely is the train-dev kit, when will you need it, how do you put it to use?\n",
    "Ans:- The goal of dev-set is to rank the models in term of their accuracy and helps us decide which model to proceed further         with. Using Dev set we rank all our models in terms of their accuracy and pick the best performing model."
   ]
  },
  {
   "cell_type": "raw",
   "id": "9a4246da",
   "metadata": {},
   "source": [
    "Q19-What could go wrong if you use the test set to tune hyperparameters?\n",
    "Ans:- The test set is normally a part of the data that you want to use to check how good the final, trained model will perform       on data it has never seen before. If you use this data to choose hyperparameters, you actually give the model a chance         to \"see\" the test data and to develop a bias towards this test data. \n",
    "      Therefore, you actually lose the possibility to findout how good your model would actually be on unseen data (because it       has already seen the test data).\n",
    "      If you tune hyperparameters using the test sets, then it may not perform well on the out-of-sample data because the model       is tuned just for that specific set."
   ]
  }
 ],
 "metadata": {
  "kernelspec": {
   "display_name": "Python 3 (ipykernel)",
   "language": "python",
   "name": "python3"
  },
  "language_info": {
   "codemirror_mode": {
    "name": "ipython",
    "version": 3
   },
   "file_extension": ".py",
   "mimetype": "text/x-python",
   "name": "python",
   "nbconvert_exporter": "python",
   "pygments_lexer": "ipython3",
   "version": "3.9.7"
  }
 },
 "nbformat": 4,
 "nbformat_minor": 5
}
